{
 "cells": [
  {
   "cell_type": "code",
   "execution_count": 1,
   "metadata": {},
   "outputs": [],
   "source": [
    "import os\n"
   ]
  },
  {
   "cell_type": "code",
   "execution_count": 2,
   "metadata": {},
   "outputs": [
    {
     "data": {
      "text/plain": [
       "'/home/angicia/Workspace/PythonML/Basic-exercises-on-Machine-Learning-with-Python'"
      ]
     },
     "execution_count": 2,
     "metadata": {},
     "output_type": "execute_result"
    }
   ],
   "source": [
    "os.getcwd()"
   ]
  },
  {
   "cell_type": "code",
   "execution_count": 3,
   "metadata": {},
   "outputs": [
    {
     "data": {
      "text/plain": [
       "b'/home/angicia/Workspace/PythonML/Basic-exercises-on-Machine-Learning-with-Python'"
      ]
     },
     "execution_count": 3,
     "metadata": {},
     "output_type": "execute_result"
    }
   ],
   "source": [
    "os.getcwdb()"
   ]
  },
  {
   "cell_type": "code",
   "execution_count": 9,
   "metadata": {},
   "outputs": [
    {
     "name": "stdout",
     "output_type": "stream",
     "text": [
      "Getting Adress\n",
      "/home/angicia/Workspace/PythonML/Basic-exercises-on-Machine-Learning-with-Python\n"
     ]
    }
   ],
   "source": [
    "print(\"Getting Adress\")\n",
    "print(os.getcwd())"
   ]
  },
  {
   "cell_type": "code",
   "execution_count": null,
   "metadata": {},
   "outputs": [],
   "source": [
    "print(os.getcwd())"
   ]
  },
  {
   "cell_type": "code",
   "execution_count": 12,
   "metadata": {},
   "outputs": [
    {
     "name": "stdout",
     "output_type": "stream",
     "text": [
      "Change Directory\n"
     ]
    }
   ],
   "source": [
    "print(\"Change Directory\")\n",
    "os.chdir('/home/angicia/Workspace/')"
   ]
  },
  {
   "cell_type": "code",
   "execution_count": 13,
   "metadata": {},
   "outputs": [
    {
     "name": "stdout",
     "output_type": "stream",
     "text": [
      "/home/angicia/Workspace\n"
     ]
    }
   ],
   "source": [
    "print(os.getcwd())"
   ]
  },
  {
   "cell_type": "code",
   "execution_count": 14,
   "metadata": {},
   "outputs": [
    {
     "name": "stdout",
     "output_type": "stream",
     "text": [
      "Change Directory\n"
     ]
    }
   ],
   "source": [
    "print(\"Change Directory\")\n",
    "os.chdir('/home/angicia/Workspace/PythonML/Basic-exercises-on-Machine-Learning-with-Python')"
   ]
  },
  {
   "cell_type": "code",
   "execution_count": 15,
   "metadata": {},
   "outputs": [
    {
     "name": "stdout",
     "output_type": "stream",
     "text": [
      "/home/angicia/Workspace/PythonML/Basic-exercises-on-Machine-Learning-with-Python\n"
     ]
    }
   ],
   "source": [
    "print(os.getcwd())"
   ]
  },
  {
   "cell_type": "code",
   "execution_count": 18,
   "metadata": {},
   "outputs": [
    {
     "name": "stdout",
     "output_type": "stream",
     "text": [
      "Listing\n"
     ]
    },
    {
     "data": {
      "text/plain": [
       "['03.Numpy.ipynb',\n",
       " '09.Directory.ipynb',\n",
       " 'README.md',\n",
       " '.ipynb_checkpoints',\n",
       " '02.Arrays.ipynb',\n",
       " 'geek.txt',\n",
       " '05.InOut.ipynb',\n",
       " '08.Dictionary .ipynb',\n",
       " '.git',\n",
       " '01.Python Basics.ipynb',\n",
       " '06.Tuple.ipynb',\n",
       " 'test.txt',\n",
       " '04.Lists.ipynb',\n",
       " '00-Copy1.Directory.ipynb',\n",
       " 'file.txt',\n",
       " '07.Sets.ipynb']"
      ]
     },
     "execution_count": 18,
     "metadata": {},
     "output_type": "execute_result"
    }
   ],
   "source": [
    "print(\"Listing\")\n",
    "os.listdir()"
   ]
  },
  {
   "cell_type": "code",
   "execution_count": 19,
   "metadata": {},
   "outputs": [
    {
     "name": "stdout",
     "output_type": "stream",
     "text": [
      "Making directory\n"
     ]
    }
   ],
   "source": [
    "print(\"Making directory\")\n",
    "os.mkdir('test')"
   ]
  },
  {
   "cell_type": "code",
   "execution_count": 20,
   "metadata": {},
   "outputs": [
    {
     "data": {
      "text/plain": [
       "['03.Numpy.ipynb',\n",
       " '09.Directory.ipynb',\n",
       " 'test',\n",
       " 'README.md',\n",
       " '.ipynb_checkpoints',\n",
       " '02.Arrays.ipynb',\n",
       " 'geek.txt',\n",
       " '05.InOut.ipynb',\n",
       " '08.Dictionary .ipynb',\n",
       " '.git',\n",
       " '01.Python Basics.ipynb',\n",
       " '06.Tuple.ipynb',\n",
       " 'test.txt',\n",
       " '04.Lists.ipynb',\n",
       " '00-Copy1.Directory.ipynb',\n",
       " 'file.txt',\n",
       " '07.Sets.ipynb']"
      ]
     },
     "execution_count": 20,
     "metadata": {},
     "output_type": "execute_result"
    }
   ],
   "source": [
    "os.listdir()"
   ]
  },
  {
   "cell_type": "code",
   "execution_count": 21,
   "metadata": {},
   "outputs": [
    {
     "data": {
      "text/plain": [
       "['03.Numpy.ipynb',\n",
       " '09.Directory.ipynb',\n",
       " 'test',\n",
       " 'README.md',\n",
       " '.ipynb_checkpoints',\n",
       " '02.Arrays.ipynb',\n",
       " 'geek.txt',\n",
       " '05.InOut.ipynb',\n",
       " '08.Dictionary .ipynb',\n",
       " '.git',\n",
       " '01.Python Basics.ipynb',\n",
       " '06.Tuple.ipynb',\n",
       " 'test.txt',\n",
       " '04.Lists.ipynb',\n",
       " '00-Copy1.Directory.ipynb',\n",
       " 'file.txt',\n",
       " '07.Sets.ipynb']"
      ]
     },
     "execution_count": 21,
     "metadata": {},
     "output_type": "execute_result"
    }
   ],
   "source": [
    " os.listdir()"
   ]
  },
  {
   "cell_type": "code",
   "execution_count": 22,
   "metadata": {},
   "outputs": [],
   "source": [
    "os.rename('test','new_one')"
   ]
  },
  {
   "cell_type": "code",
   "execution_count": 23,
   "metadata": {},
   "outputs": [
    {
     "data": {
      "text/plain": [
       "['03.Numpy.ipynb',\n",
       " '09.Directory.ipynb',\n",
       " 'README.md',\n",
       " '.ipynb_checkpoints',\n",
       " '02.Arrays.ipynb',\n",
       " 'new_one',\n",
       " 'geek.txt',\n",
       " '05.InOut.ipynb',\n",
       " '08.Dictionary .ipynb',\n",
       " '.git',\n",
       " '01.Python Basics.ipynb',\n",
       " '06.Tuple.ipynb',\n",
       " 'test.txt',\n",
       " '04.Lists.ipynb',\n",
       " '00-Copy1.Directory.ipynb',\n",
       " 'file.txt',\n",
       " '07.Sets.ipynb']"
      ]
     },
     "execution_count": 23,
     "metadata": {},
     "output_type": "execute_result"
    }
   ],
   "source": [
    "os.listdir()"
   ]
  },
  {
   "cell_type": "code",
   "execution_count": 24,
   "metadata": {},
   "outputs": [
    {
     "data": {
      "text/plain": [
       "['03.Numpy.ipynb',\n",
       " '09.Directory.ipynb',\n",
       " 'README.md',\n",
       " '.ipynb_checkpoints',\n",
       " '02.Arrays.ipynb',\n",
       " 'new_one',\n",
       " 'geek.txt',\n",
       " '05.InOut.ipynb',\n",
       " '08.Dictionary .ipynb',\n",
       " '.git',\n",
       " '01.Python Basics.ipynb',\n",
       " '06.Tuple.ipynb',\n",
       " 'test.txt',\n",
       " '04.Lists.ipynb',\n",
       " '00-Copy1.Directory.ipynb',\n",
       " 'file.txt',\n",
       " '07.Sets.ipynb']"
      ]
     },
     "execution_count": 24,
     "metadata": {},
     "output_type": "execute_result"
    }
   ],
   "source": [
    " os.listdir()"
   ]
  },
  {
   "cell_type": "code",
   "execution_count": 25,
   "metadata": {},
   "outputs": [],
   "source": [
    "os.remove('00-Copy1.Directory.ipynb')"
   ]
  },
  {
   "cell_type": "code",
   "execution_count": 26,
   "metadata": {},
   "outputs": [
    {
     "data": {
      "text/plain": [
       "['03.Numpy.ipynb',\n",
       " '09.Directory.ipynb',\n",
       " 'README.md',\n",
       " '.ipynb_checkpoints',\n",
       " '02.Arrays.ipynb',\n",
       " 'new_one',\n",
       " 'geek.txt',\n",
       " '05.InOut.ipynb',\n",
       " '08.Dictionary .ipynb',\n",
       " '.git',\n",
       " '01.Python Basics.ipynb',\n",
       " '06.Tuple.ipynb',\n",
       " 'test.txt',\n",
       " '04.Lists.ipynb',\n",
       " 'file.txt',\n",
       " '07.Sets.ipynb']"
      ]
     },
     "execution_count": 26,
     "metadata": {},
     "output_type": "execute_result"
    }
   ],
   "source": [
    "os.listdir()"
   ]
  },
  {
   "cell_type": "code",
   "execution_count": 28,
   "metadata": {},
   "outputs": [],
   "source": [
    "os.rmdir('new_one')"
   ]
  },
  {
   "cell_type": "code",
   "execution_count": 29,
   "metadata": {},
   "outputs": [],
   "source": [
    "import shutil"
   ]
  },
  {
   "cell_type": "code",
   "execution_count": 31,
   "metadata": {},
   "outputs": [
    {
     "ename": "FileNotFoundError",
     "evalue": "[Errno 2] No such file or directory: 'new_one'",
     "output_type": "error",
     "traceback": [
      "\u001b[0;31m---------------------------------------------------------------------------\u001b[0m",
      "\u001b[0;31mFileNotFoundError\u001b[0m                         Traceback (most recent call last)",
      "\u001b[0;32m<ipython-input-31-b370f93898f3>\u001b[0m in \u001b[0;36m<module>\u001b[0;34m\u001b[0m\n\u001b[0;32m----> 1\u001b[0;31m \u001b[0mshutil\u001b[0m\u001b[0;34m.\u001b[0m\u001b[0mrmtree\u001b[0m\u001b[0;34m(\u001b[0m\u001b[0;34m'new_one'\u001b[0m\u001b[0;34m)\u001b[0m\u001b[0;34m\u001b[0m\u001b[0;34m\u001b[0m\u001b[0m\n\u001b[0m",
      "\u001b[0;32m~/anaconda3/lib/python3.7/shutil.py\u001b[0m in \u001b[0;36mrmtree\u001b[0;34m(path, ignore_errors, onerror)\u001b[0m\n\u001b[1;32m    480\u001b[0m             \u001b[0morig_st\u001b[0m \u001b[0;34m=\u001b[0m \u001b[0mos\u001b[0m\u001b[0;34m.\u001b[0m\u001b[0mlstat\u001b[0m\u001b[0;34m(\u001b[0m\u001b[0mpath\u001b[0m\u001b[0;34m)\u001b[0m\u001b[0;34m\u001b[0m\u001b[0;34m\u001b[0m\u001b[0m\n\u001b[1;32m    481\u001b[0m         \u001b[0;32mexcept\u001b[0m \u001b[0mException\u001b[0m\u001b[0;34m:\u001b[0m\u001b[0;34m\u001b[0m\u001b[0;34m\u001b[0m\u001b[0m\n\u001b[0;32m--> 482\u001b[0;31m             \u001b[0monerror\u001b[0m\u001b[0;34m(\u001b[0m\u001b[0mos\u001b[0m\u001b[0;34m.\u001b[0m\u001b[0mlstat\u001b[0m\u001b[0;34m,\u001b[0m \u001b[0mpath\u001b[0m\u001b[0;34m,\u001b[0m \u001b[0msys\u001b[0m\u001b[0;34m.\u001b[0m\u001b[0mexc_info\u001b[0m\u001b[0;34m(\u001b[0m\u001b[0;34m)\u001b[0m\u001b[0;34m)\u001b[0m\u001b[0;34m\u001b[0m\u001b[0;34m\u001b[0m\u001b[0m\n\u001b[0m\u001b[1;32m    483\u001b[0m             \u001b[0;32mreturn\u001b[0m\u001b[0;34m\u001b[0m\u001b[0;34m\u001b[0m\u001b[0m\n\u001b[1;32m    484\u001b[0m         \u001b[0;32mtry\u001b[0m\u001b[0;34m:\u001b[0m\u001b[0;34m\u001b[0m\u001b[0;34m\u001b[0m\u001b[0m\n",
      "\u001b[0;32m~/anaconda3/lib/python3.7/shutil.py\u001b[0m in \u001b[0;36mrmtree\u001b[0;34m(path, ignore_errors, onerror)\u001b[0m\n\u001b[1;32m    478\u001b[0m         \u001b[0;31m# lstat()/open()/fstat() trick.\u001b[0m\u001b[0;34m\u001b[0m\u001b[0;34m\u001b[0m\u001b[0;34m\u001b[0m\u001b[0m\n\u001b[1;32m    479\u001b[0m         \u001b[0;32mtry\u001b[0m\u001b[0;34m:\u001b[0m\u001b[0;34m\u001b[0m\u001b[0;34m\u001b[0m\u001b[0m\n\u001b[0;32m--> 480\u001b[0;31m             \u001b[0morig_st\u001b[0m \u001b[0;34m=\u001b[0m \u001b[0mos\u001b[0m\u001b[0;34m.\u001b[0m\u001b[0mlstat\u001b[0m\u001b[0;34m(\u001b[0m\u001b[0mpath\u001b[0m\u001b[0;34m)\u001b[0m\u001b[0;34m\u001b[0m\u001b[0;34m\u001b[0m\u001b[0m\n\u001b[0m\u001b[1;32m    481\u001b[0m         \u001b[0;32mexcept\u001b[0m \u001b[0mException\u001b[0m\u001b[0;34m:\u001b[0m\u001b[0;34m\u001b[0m\u001b[0;34m\u001b[0m\u001b[0m\n\u001b[1;32m    482\u001b[0m             \u001b[0monerror\u001b[0m\u001b[0;34m(\u001b[0m\u001b[0mos\u001b[0m\u001b[0;34m.\u001b[0m\u001b[0mlstat\u001b[0m\u001b[0;34m,\u001b[0m \u001b[0mpath\u001b[0m\u001b[0;34m,\u001b[0m \u001b[0msys\u001b[0m\u001b[0;34m.\u001b[0m\u001b[0mexc_info\u001b[0m\u001b[0;34m(\u001b[0m\u001b[0;34m)\u001b[0m\u001b[0;34m)\u001b[0m\u001b[0;34m\u001b[0m\u001b[0;34m\u001b[0m\u001b[0m\n",
      "\u001b[0;31mFileNotFoundError\u001b[0m: [Errno 2] No such file or directory: 'new_one'"
     ]
    }
   ],
   "source": [
    "shutil.rmtree('new_one')"
   ]
  },
  {
   "cell_type": "code",
   "execution_count": null,
   "metadata": {},
   "outputs": [],
   "source": []
  }
 ],
 "metadata": {
  "kernelspec": {
   "display_name": "Python 3",
   "language": "python",
   "name": "python3"
  },
  "language_info": {
   "codemirror_mode": {
    "name": "ipython",
    "version": 3
   },
   "file_extension": ".py",
   "mimetype": "text/x-python",
   "name": "python",
   "nbconvert_exporter": "python",
   "pygments_lexer": "ipython3",
   "version": "3.7.3"
  }
 },
 "nbformat": 4,
 "nbformat_minor": 2
}
