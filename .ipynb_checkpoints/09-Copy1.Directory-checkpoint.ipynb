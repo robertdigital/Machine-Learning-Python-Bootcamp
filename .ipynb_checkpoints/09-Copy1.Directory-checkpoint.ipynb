{
 "cells": [
  {
   "cell_type": "code",
   "execution_count": 1,
   "metadata": {},
   "outputs": [],
   "source": [
    "import os\n"
   ]
  },
  {
   "cell_type": "code",
   "execution_count": 2,
   "metadata": {},
   "outputs": [
    {
     "data": {
      "text/plain": [
       "'/home/angicia/Workspace/PythonML/Basic-exercises-on-Machine-Learning-with-Python'"
      ]
     },
     "execution_count": 2,
     "metadata": {},
     "output_type": "execute_result"
    }
   ],
   "source": [
    "os.getcwd()"
   ]
  },
  {
   "cell_type": "code",
   "execution_count": 3,
   "metadata": {},
   "outputs": [
    {
     "data": {
      "text/plain": [
       "b'/home/angicia/Workspace/PythonML/Basic-exercises-on-Machine-Learning-with-Python'"
      ]
     },
     "execution_count": 3,
     "metadata": {},
     "output_type": "execute_result"
    }
   ],
   "source": [
    "os.getcwdb()"
   ]
  },
  {
   "cell_type": "code",
   "execution_count": 4,
   "metadata": {},
   "outputs": [
    {
     "name": "stdout",
     "output_type": "stream",
     "text": [
      "Getting Adress\n",
      "/home/angicia/Workspace/PythonML/Basic-exercises-on-Machine-Learning-with-Python\n"
     ]
    }
   ],
   "source": [
    "print(\"Getting Adress\")\n",
    "print(os.getcwd())"
   ]
  },
  {
   "cell_type": "code",
   "execution_count": 5,
   "metadata": {},
   "outputs": [
    {
     "name": "stdout",
     "output_type": "stream",
     "text": [
      "/home/angicia/Workspace/PythonML/Basic-exercises-on-Machine-Learning-with-Python\n"
     ]
    }
   ],
   "source": [
    "print(os.getcwd())"
   ]
  },
  {
   "cell_type": "code",
   "execution_count": 6,
   "metadata": {},
   "outputs": [
    {
     "name": "stdout",
     "output_type": "stream",
     "text": [
      "Change Directory\n"
     ]
    }
   ],
   "source": [
    "print(\"Change Directory\")\n",
    "os.chdir('/home/angicia/Workspace/')"
   ]
  },
  {
   "cell_type": "code",
   "execution_count": 7,
   "metadata": {},
   "outputs": [
    {
     "name": "stdout",
     "output_type": "stream",
     "text": [
      "/home/angicia/Workspace\n"
     ]
    }
   ],
   "source": [
    "print(os.getcwd())"
   ]
  },
  {
   "cell_type": "code",
   "execution_count": 8,
   "metadata": {},
   "outputs": [
    {
     "name": "stdout",
     "output_type": "stream",
     "text": [
      "Change Directory\n"
     ]
    }
   ],
   "source": [
    "print(\"Change Directory\")\n",
    "os.chdir('/home/angicia/Workspace/PythonML/Basic-exercises-on-Machine-Learning-with-Python')"
   ]
  },
  {
   "cell_type": "code",
   "execution_count": 9,
   "metadata": {},
   "outputs": [
    {
     "name": "stdout",
     "output_type": "stream",
     "text": [
      "/home/angicia/Workspace/PythonML/Basic-exercises-on-Machine-Learning-with-Python\n"
     ]
    }
   ],
   "source": [
    "print(os.getcwd())"
   ]
  },
  {
   "cell_type": "code",
   "execution_count": 10,
   "metadata": {},
   "outputs": [
    {
     "name": "stdout",
     "output_type": "stream",
     "text": [
      "Listing\n"
     ]
    },
    {
     "data": {
      "text/plain": [
       "['03.Numpy.ipynb',\n",
       " '09.Directory.ipynb',\n",
       " 'README.md',\n",
       " '.ipynb_checkpoints',\n",
       " '02.Arrays.ipynb',\n",
       " 'geek.txt',\n",
       " '05.InOut.ipynb',\n",
       " '08.Dictionary .ipynb',\n",
       " '.git',\n",
       " '01.Python Basics.ipynb',\n",
       " '06.Tuple.ipynb',\n",
       " 'test.txt',\n",
       " '04.Lists.ipynb',\n",
       " 'file.txt',\n",
       " '07.Sets.ipynb']"
      ]
     },
     "execution_count": 10,
     "metadata": {},
     "output_type": "execute_result"
    }
   ],
   "source": [
    "print(\"Listing\")\n",
    "os.listdir()"
   ]
  },
  {
   "cell_type": "code",
   "execution_count": 11,
   "metadata": {},
   "outputs": [
    {
     "name": "stdout",
     "output_type": "stream",
     "text": [
      "Making directory\n"
     ]
    }
   ],
   "source": [
    "print(\"Making directory\")\n",
    "os.mkdir('test')"
   ]
  },
  {
   "cell_type": "code",
   "execution_count": 12,
   "metadata": {},
   "outputs": [
    {
     "data": {
      "text/plain": [
       "['03.Numpy.ipynb',\n",
       " '09.Directory.ipynb',\n",
       " 'test',\n",
       " 'README.md',\n",
       " '.ipynb_checkpoints',\n",
       " '02.Arrays.ipynb',\n",
       " 'geek.txt',\n",
       " '05.InOut.ipynb',\n",
       " '08.Dictionary .ipynb',\n",
       " '.git',\n",
       " '01.Python Basics.ipynb',\n",
       " '06.Tuple.ipynb',\n",
       " 'test.txt',\n",
       " '04.Lists.ipynb',\n",
       " 'file.txt',\n",
       " '07.Sets.ipynb']"
      ]
     },
     "execution_count": 12,
     "metadata": {},
     "output_type": "execute_result"
    }
   ],
   "source": [
    "os.listdir()"
   ]
  },
  {
   "cell_type": "code",
   "execution_count": 13,
   "metadata": {},
   "outputs": [
    {
     "data": {
      "text/plain": [
       "['03.Numpy.ipynb',\n",
       " '09.Directory.ipynb',\n",
       " 'test',\n",
       " 'README.md',\n",
       " '.ipynb_checkpoints',\n",
       " '02.Arrays.ipynb',\n",
       " 'geek.txt',\n",
       " '05.InOut.ipynb',\n",
       " '08.Dictionary .ipynb',\n",
       " '.git',\n",
       " '01.Python Basics.ipynb',\n",
       " '06.Tuple.ipynb',\n",
       " 'test.txt',\n",
       " '04.Lists.ipynb',\n",
       " 'file.txt',\n",
       " '07.Sets.ipynb']"
      ]
     },
     "execution_count": 13,
     "metadata": {},
     "output_type": "execute_result"
    }
   ],
   "source": [
    " os.listdir()"
   ]
  },
  {
   "cell_type": "code",
   "execution_count": 14,
   "metadata": {},
   "outputs": [],
   "source": [
    "os.rename('test','new_one')"
   ]
  },
  {
   "cell_type": "code",
   "execution_count": 15,
   "metadata": {},
   "outputs": [
    {
     "data": {
      "text/plain": [
       "['03.Numpy.ipynb',\n",
       " '09.Directory.ipynb',\n",
       " 'README.md',\n",
       " '.ipynb_checkpoints',\n",
       " '02.Arrays.ipynb',\n",
       " 'new_one',\n",
       " 'geek.txt',\n",
       " '05.InOut.ipynb',\n",
       " '08.Dictionary .ipynb',\n",
       " '.git',\n",
       " '01.Python Basics.ipynb',\n",
       " '06.Tuple.ipynb',\n",
       " 'test.txt',\n",
       " '04.Lists.ipynb',\n",
       " 'file.txt',\n",
       " '07.Sets.ipynb']"
      ]
     },
     "execution_count": 15,
     "metadata": {},
     "output_type": "execute_result"
    }
   ],
   "source": [
    "os.listdir()"
   ]
  },
  {
   "cell_type": "code",
   "execution_count": 16,
   "metadata": {},
   "outputs": [
    {
     "data": {
      "text/plain": [
       "['03.Numpy.ipynb',\n",
       " '09.Directory.ipynb',\n",
       " 'README.md',\n",
       " '.ipynb_checkpoints',\n",
       " '02.Arrays.ipynb',\n",
       " 'new_one',\n",
       " 'geek.txt',\n",
       " '05.InOut.ipynb',\n",
       " '08.Dictionary .ipynb',\n",
       " '.git',\n",
       " '01.Python Basics.ipynb',\n",
       " '06.Tuple.ipynb',\n",
       " 'test.txt',\n",
       " '04.Lists.ipynb',\n",
       " 'file.txt',\n",
       " '07.Sets.ipynb']"
      ]
     },
     "execution_count": 16,
     "metadata": {},
     "output_type": "execute_result"
    }
   ],
   "source": [
    " os.listdir()"
   ]
  },
  {
   "cell_type": "code",
   "execution_count": 17,
   "metadata": {},
   "outputs": [
    {
     "ename": "FileNotFoundError",
     "evalue": "[Errno 2] No such file or directory: '00-Copy1.Directory.ipynb'",
     "output_type": "error",
     "traceback": [
      "\u001b[0;31m---------------------------------------------------------------------------\u001b[0m",
      "\u001b[0;31mFileNotFoundError\u001b[0m                         Traceback (most recent call last)",
      "\u001b[0;32m<ipython-input-17-7e002a01d358>\u001b[0m in \u001b[0;36m<module>\u001b[0;34m\u001b[0m\n\u001b[0;32m----> 1\u001b[0;31m \u001b[0mos\u001b[0m\u001b[0;34m.\u001b[0m\u001b[0mremove\u001b[0m\u001b[0;34m(\u001b[0m\u001b[0;34m'00-Copy1.Directory.ipynb'\u001b[0m\u001b[0;34m)\u001b[0m\u001b[0;34m\u001b[0m\u001b[0;34m\u001b[0m\u001b[0m\n\u001b[0m",
      "\u001b[0;31mFileNotFoundError\u001b[0m: [Errno 2] No such file or directory: '00-Copy1.Directory.ipynb'"
     ]
    }
   ],
   "source": [
    "os.remove('00-Copy1.Directory.ipynb')"
   ]
  },
  {
   "cell_type": "code",
   "execution_count": null,
   "metadata": {},
   "outputs": [],
   "source": [
    "os.listdir()"
   ]
  },
  {
   "cell_type": "code",
   "execution_count": null,
   "metadata": {},
   "outputs": [],
   "source": [
    "os.rmdir('new_one')"
   ]
  },
  {
   "cell_type": "code",
   "execution_count": null,
   "metadata": {},
   "outputs": [],
   "source": [
    "import shutil"
   ]
  },
  {
   "cell_type": "code",
   "execution_count": null,
   "metadata": {},
   "outputs": [],
   "source": [
    "shutil.rmtree('tested')"
   ]
  },
  {
   "cell_type": "code",
   "execution_count": null,
   "metadata": {},
   "outputs": [],
   "source": [
    "os.listdir()"
   ]
  },
  {
   "cell_type": "code",
   "execution_count": null,
   "metadata": {},
   "outputs": [],
   "source": []
  }
 ],
 "metadata": {
  "kernelspec": {
   "display_name": "Python 3",
   "language": "python",
   "name": "python3"
  },
  "language_info": {
   "codemirror_mode": {
    "name": "ipython",
    "version": 3
   },
   "file_extension": ".py",
   "mimetype": "text/x-python",
   "name": "python",
   "nbconvert_exporter": "python",
   "pygments_lexer": "ipython3",
   "version": "3.7.3"
  }
 },
 "nbformat": 4,
 "nbformat_minor": 2
}
